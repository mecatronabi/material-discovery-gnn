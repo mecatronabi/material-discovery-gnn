{
 "cells": [
  {
   "cell_type": "code",
   "execution_count": null,
   "id": "4a5eb428-1381-4c62-8195-475af2d07d8c",
   "metadata": {},
   "outputs": [],
   "source": [
    "# 📦 Instalación automática de paquetes requeridos\n",
    "# Correr esta celda si cambias de entorno, compu o al compartir tu notebook\n",
    "\n",
    "!pip install --upgrade pip\n",
    "!pip install \\\n",
    "    torch torchvision torchaudio --index-url https://download.pytorch.org/whl/cpu \\\n",
    "    torch-geometric \\\n",
    "    matminer \\\n",
    "    pymatgen \\\n",
    "    pandas \\\n",
    "    matplotlib \\\n",
    "    scikit-learn \\\n",
    "    jupyterlab \\\n",
    "    ipykernel \\\n",
    "    numpy"
   ]
  },
  {
   "cell_type": "code",
   "execution_count": 29,
   "id": "4928586c",
   "metadata": {},
   "outputs": [
    {
     "name": "stdout",
     "output_type": "stream",
     "text": [
      "Total samples: 132752\n",
      "Procesando muestra 0...\n",
      "Procesando muestra 1...\n",
      "Procesando muestra 2...\n",
      "Procesando muestra 3...\n",
      "Procesando muestra 4...\n",
      "Procesando muestra 5...\n",
      "Procesando muestra 6...\n",
      "Procesando muestra 7...\n",
      "Procesando muestra 8...\n",
      "Procesando muestra 9...\n",
      "Total graphs created: 10\n"
     ]
    }
   ],
   "source": [
    "# 📘 Notebook: 02_model.ipynb\n",
    "# Construcción del dataset para GNN y entrenamiento de modelo\n",
    "\n",
    "import torch\n",
    "from torch_geometric.data import Data\n",
    "import pandas as pd\n",
    "from matminer.datasets import load_dataset\n",
    "from pymatgen.analysis.graphs import StructureGraph\n",
    "from pymatgen.analysis.local_env import MinimumDistanceNN\n",
    "import numpy as np\n",
    "\n",
    "# Cargar dataset\n",
    "df = load_dataset(\"matbench_mp_e_form\")\n",
    "print(f\"Total samples: {len(df)}\")\n",
    "\n",
    "\n",
    "# Tomar un subconjunto pequeño para pruebas rápidas\n",
    "df_small = df.sample(10, random_state=42).reset_index(drop=True)\n",
    "# Lista para almacenar objetos Data de PyTorch Geometric\n",
    "data_list = []\n",
    "\n",
    "for i, row in df_small.iterrows():\n",
    "    print(f\"Procesando muestra {i}...\")\n",
    "\n",
    "    try:\n",
    "        structure = row['structure']\n",
    "        energy = row['e_form']\n",
    "\n",
    "        # Crear grafo con CrystalNN\n",
    "        sg = StructureGraph.with_local_env_strategy(structure, MinimumDistanceNN())\n",
    "        edges = sg.graph.edges()\n",
    "\n",
    "        # Nodos: número atómico de cada átomo\n",
    "        z = torch.tensor([site.specie.Z for site in structure.sites], dtype=torch.float)\n",
    "\n",
    "        # Aristas: pares de nodos conectados\n",
    "        edge_index = torch.tensor(list(edges), dtype=torch.long).t().contiguous()\n",
    "\n",
    "        # Crear objeto Data para PyTorch Geometric\n",
    "        data = Data(x=z.view(-1, 1), edge_index=edge_index, y=torch.tensor([energy], dtype=torch.float))\n",
    "        data_list.append(data)\n",
    "\n",
    "    except Exception as e:\n",
    "        print(f\"Error in sample {i}: {e}\")\n",
    "        continue\n",
    "\n",
    "print(f\"Total graphs created: {len(data_list)}\")\n",
    "\n",
    "# Guardar data_list para usarlo en el entrenamiento (opcional)\n",
    "torch.save(data_list, \"data/gnn_graphs.pt\")\n",
    "\n"
   ]
  },
  {
   "cell_type": "code",
   "execution_count": null,
   "id": "34ed3bca-ba2e-4352-811d-b374dadc22f8",
   "metadata": {},
   "outputs": [],
   "source": [
    "import os\n",
    "import torch\n",
    "\n",
    "file_path = \"data/gnn_graphs.pt\"\n",
    "\n",
    "if os.path.exists(file_path):\n",
    "    print(\"✅ ¡Archivo encontrado! ✅\")\n",
    "    data_list = torch.load(file_path)\n",
    "    print(f\"📦 Número de estructuras guardadas: {len(data_list)}\")\n",
    "else:\n",
    "    print(\"❌ El archivo no fue encontrado. Verifica que la ruta y el guardado estén correctos.\")\n",
    "\n"
   ]
  },
  {
   "cell_type": "code",
   "execution_count": 1,
   "id": "9c846f92-2871-4e02-bf0d-bf496eba09c5",
   "metadata": {},
   "outputs": [
    {
     "name": "stdout",
     "output_type": "stream",
     "text": [
      "                                           structure    e_form\n",
      "0  [[0. 0. 0.] Pt, [1.40802527 1.40802527 1.40802...  1.995384\n",
      "1  [[0. 0. 0.] Cd, [-3.88999977 -3.88999977 -3.88...  2.103048\n"
     ]
    }
   ],
   "source": [
    "from matminer.datasets import load_dataset\n",
    "\n",
    "# Cargar solo los primeros 2 registros\n",
    "df = load_dataset(\"matbench_mp_e_form\")[:2]  # <- MUY IMPORTANTE\n",
    "print(df.head())\n",
    "\n"
   ]
  },
  {
   "cell_type": "code",
   "execution_count": 2,
   "id": "daa1a4d9-16be-4cf6-9271-02825923726a",
   "metadata": {},
   "outputs": [
    {
     "data": {
      "text/html": [
       "<div>\n",
       "<style scoped>\n",
       "    .dataframe tbody tr th:only-of-type {\n",
       "        vertical-align: middle;\n",
       "    }\n",
       "\n",
       "    .dataframe tbody tr th {\n",
       "        vertical-align: top;\n",
       "    }\n",
       "\n",
       "    .dataframe thead th {\n",
       "        text-align: right;\n",
       "    }\n",
       "</style>\n",
       "<table border=\"1\" class=\"dataframe\">\n",
       "  <thead>\n",
       "    <tr style=\"text-align: right;\">\n",
       "      <th></th>\n",
       "      <th>structure</th>\n",
       "      <th>e_form</th>\n",
       "    </tr>\n",
       "  </thead>\n",
       "  <tbody>\n",
       "    <tr>\n",
       "      <th>0</th>\n",
       "      <td>[[0. 0. 0.] Cd, [-3.88999977 -3.88999977 -3.88...</td>\n",
       "      <td>2.103048</td>\n",
       "    </tr>\n",
       "    <tr>\n",
       "      <th>1</th>\n",
       "      <td>[[0. 0. 0.] Pt, [1.40802527 1.40802527 1.40802...</td>\n",
       "      <td>1.995384</td>\n",
       "    </tr>\n",
       "  </tbody>\n",
       "</table>\n",
       "</div>"
      ],
      "text/plain": [
       "                                           structure    e_form\n",
       "0  [[0. 0. 0.] Cd, [-3.88999977 -3.88999977 -3.88...  2.103048\n",
       "1  [[0. 0. 0.] Pt, [1.40802527 1.40802527 1.40802...  1.995384"
      ]
     },
     "execution_count": 2,
     "metadata": {},
     "output_type": "execute_result"
    }
   ],
   "source": [
    "df_small = df.sample(2, random_state=42).reset_index(drop=True)\n",
    "df_small.head()\n"
   ]
  },
  {
   "cell_type": "code",
   "execution_count": 3,
   "id": "94ab8be9-5b52-42b5-b208-155d66407a55",
   "metadata": {},
   "outputs": [
    {
     "name": "stdout",
     "output_type": "stream",
     "text": [
      "✓ Grafo 0 procesado.\n",
      "✓ Grafo 1 procesado.\n"
     ]
    }
   ],
   "source": [
    "from pymatgen.analysis.graphs import StructureGraph\n",
    "from pymatgen.analysis.local_env import MinimumDistanceNN\n",
    "from torch_geometric.data import Data\n",
    "import torch\n",
    "\n",
    "# Lista para guardar los objetos tipo Data\n",
    "data_list = []\n",
    "\n",
    "for i, row in df_small.iterrows():\n",
    "    try:\n",
    "        structure = row['structure']\n",
    "        energy = row['e_form']\n",
    "\n",
    "        # Grafo de la estructura con vecinos locales\n",
    "        sg = StructureGraph.with_local_env_strategy(structure, MinimumDistanceNN())\n",
    "        edges = sg.graph.edges()\n",
    "\n",
    "        # Nodo = número atómico\n",
    "        z = torch.tensor([site.specie.Z for site in structure.sites], dtype=torch.float)\n",
    "\n",
    "        # Aristas: nodos conectados\n",
    "        edge_index = torch.tensor(list(edges), dtype=torch.long).t().contiguous()\n",
    "\n",
    "        # Objeto tipo Data\n",
    "        data = Data(x=z.view(-1, 1), edge_index=edge_index, y=torch.tensor([energy], dtype=torch.float))\n",
    "        data_list.append(data)\n",
    "\n",
    "        print(f\"✓ Grafo {i} procesado.\")\n",
    "\n",
    "    except Exception as e:\n",
    "        print(f\"⚠️ Error en el grafo {i}: {e}\")\n",
    "        continue\n"
   ]
  },
  {
   "cell_type": "code",
   "execution_count": 4,
   "id": "aec9310e-6f56-4eb5-b52d-9805db852196",
   "metadata": {},
   "outputs": [
    {
     "name": "stdout",
     "output_type": "stream",
     "text": [
      "✅ Archivo guardado exitosamente.\n",
      "📁 Archivo encontrado: data/gnn_graphs.pt\n"
     ]
    },
    {
     "ename": "UnpicklingError",
     "evalue": "Weights only load failed. This file can still be loaded, to do so you have two options, \u001b[1mdo those steps only if you trust the source of the checkpoint\u001b[0m. \n\t(1) In PyTorch 2.6, we changed the default value of the `weights_only` argument in `torch.load` from `False` to `True`. Re-running `torch.load` with `weights_only` set to `False` will likely succeed, but it can result in arbitrary code execution. Do it only if you got the file from a trusted source.\n\t(2) Alternatively, to load with `weights_only=True` please check the recommended steps in the following error message.\n\tWeightsUnpickler error: Unsupported global: GLOBAL torch_geometric.data.data.DataEdgeAttr was not an allowed global by default. Please use `torch.serialization.add_safe_globals([torch_geometric.data.data.DataEdgeAttr])` or the `torch.serialization.safe_globals([torch_geometric.data.data.DataEdgeAttr])` context manager to allowlist this global if you trust this class/function.\n\nCheck the documentation of torch.load to learn more about types accepted by default with weights_only https://pytorch.org/docs/stable/generated/torch.load.html.",
     "output_type": "error",
     "traceback": [
      "\u001b[1;31m---------------------------------------------------------------------------\u001b[0m",
      "\u001b[1;31mUnpicklingError\u001b[0m                           Traceback (most recent call last)",
      "Cell \u001b[1;32mIn[4], line 17\u001b[0m\n\u001b[0;32m     15\u001b[0m \u001b[38;5;28;01mif\u001b[39;00m os\u001b[38;5;241m.\u001b[39mpath\u001b[38;5;241m.\u001b[39mexists(file_path):\n\u001b[0;32m     16\u001b[0m     \u001b[38;5;28mprint\u001b[39m(\u001b[38;5;124mf\u001b[39m\u001b[38;5;124m\"\u001b[39m\u001b[38;5;124m📁 Archivo encontrado: \u001b[39m\u001b[38;5;132;01m{\u001b[39;00mfile_path\u001b[38;5;132;01m}\u001b[39;00m\u001b[38;5;124m\"\u001b[39m)\n\u001b[1;32m---> 17\u001b[0m     graphs \u001b[38;5;241m=\u001b[39m \u001b[43mtorch\u001b[49m\u001b[38;5;241;43m.\u001b[39;49m\u001b[43mload\u001b[49m\u001b[43m(\u001b[49m\u001b[43mfile_path\u001b[49m\u001b[43m)\u001b[49m\n\u001b[0;32m     18\u001b[0m     \u001b[38;5;28mprint\u001b[39m(\u001b[38;5;124mf\u001b[39m\u001b[38;5;124m\"\u001b[39m\u001b[38;5;124m📊 Número de grafos guardados: \u001b[39m\u001b[38;5;132;01m{\u001b[39;00m\u001b[38;5;28mlen\u001b[39m(graphs)\u001b[38;5;132;01m}\u001b[39;00m\u001b[38;5;124m\"\u001b[39m)\n\u001b[0;32m     19\u001b[0m \u001b[38;5;28;01melse\u001b[39;00m:\n",
      "File \u001b[1;32m~\\OneDrive\\Documentos\\DATA_SCIENTIST\\DataScienceProjects\\material-discovery-gnn\\.venv-safe\\lib\\site-packages\\torch\\serialization.py:1524\u001b[0m, in \u001b[0;36mload\u001b[1;34m(f, map_location, pickle_module, weights_only, mmap, **pickle_load_args)\u001b[0m\n\u001b[0;32m   1516\u001b[0m                 \u001b[38;5;28;01mreturn\u001b[39;00m _load(\n\u001b[0;32m   1517\u001b[0m                     opened_zipfile,\n\u001b[0;32m   1518\u001b[0m                     map_location,\n\u001b[1;32m   (...)\u001b[0m\n\u001b[0;32m   1521\u001b[0m                     \u001b[38;5;241m*\u001b[39m\u001b[38;5;241m*\u001b[39mpickle_load_args,\n\u001b[0;32m   1522\u001b[0m                 )\n\u001b[0;32m   1523\u001b[0m             \u001b[38;5;28;01mexcept\u001b[39;00m pickle\u001b[38;5;241m.\u001b[39mUnpicklingError \u001b[38;5;28;01mas\u001b[39;00m e:\n\u001b[1;32m-> 1524\u001b[0m                 \u001b[38;5;28;01mraise\u001b[39;00m pickle\u001b[38;5;241m.\u001b[39mUnpicklingError(_get_wo_message(\u001b[38;5;28mstr\u001b[39m(e))) \u001b[38;5;28;01mfrom\u001b[39;00m\u001b[38;5;250m \u001b[39m\u001b[38;5;28;01mNone\u001b[39;00m\n\u001b[0;32m   1525\u001b[0m         \u001b[38;5;28;01mreturn\u001b[39;00m _load(\n\u001b[0;32m   1526\u001b[0m             opened_zipfile,\n\u001b[0;32m   1527\u001b[0m             map_location,\n\u001b[1;32m   (...)\u001b[0m\n\u001b[0;32m   1530\u001b[0m             \u001b[38;5;241m*\u001b[39m\u001b[38;5;241m*\u001b[39mpickle_load_args,\n\u001b[0;32m   1531\u001b[0m         )\n\u001b[0;32m   1532\u001b[0m \u001b[38;5;28;01mif\u001b[39;00m mmap:\n",
      "\u001b[1;31mUnpicklingError\u001b[0m: Weights only load failed. This file can still be loaded, to do so you have two options, \u001b[1mdo those steps only if you trust the source of the checkpoint\u001b[0m. \n\t(1) In PyTorch 2.6, we changed the default value of the `weights_only` argument in `torch.load` from `False` to `True`. Re-running `torch.load` with `weights_only` set to `False` will likely succeed, but it can result in arbitrary code execution. Do it only if you got the file from a trusted source.\n\t(2) Alternatively, to load with `weights_only=True` please check the recommended steps in the following error message.\n\tWeightsUnpickler error: Unsupported global: GLOBAL torch_geometric.data.data.DataEdgeAttr was not an allowed global by default. Please use `torch.serialization.add_safe_globals([torch_geometric.data.data.DataEdgeAttr])` or the `torch.serialization.safe_globals([torch_geometric.data.data.DataEdgeAttr])` context manager to allowlist this global if you trust this class/function.\n\nCheck the documentation of torch.load to learn more about types accepted by default with weights_only https://pytorch.org/docs/stable/generated/torch.load.html."
     ]
    }
   ],
   "source": [
    "import os\n",
    "import torch\n",
    "\n",
    "# Ruta donde se guardará el archivo\n",
    "file_path = \"data/gnn_graphs.pt\"\n",
    "\n",
    "# Asegúrate de que la carpeta 'data/' exista\n",
    "os.makedirs(\"data\", exist_ok=True)\n",
    "\n",
    "# Guardar el archivo\n",
    "torch.save(data_list, file_path)\n",
    "print(\"✅ Archivo guardado exitosamente.\")\n",
    "\n",
    "# Verificar\n",
    "if os.path.exists(file_path):\n",
    "    print(f\"📁 Archivo encontrado: {file_path}\")\n",
    "    graphs = torch.load(file_path)\n",
    "    print(f\"📊 Número de grafos guardados: {len(graphs)}\")\n",
    "else:\n",
    "    print(\"❌ No se encontró el archivo.\")\n"
   ]
  },
  {
   "cell_type": "code",
   "execution_count": 22,
   "id": "df5af47b-a1da-4ba7-860e-3c66f3ec23f3",
   "metadata": {},
   "outputs": [
    {
     "name": "stdout",
     "output_type": "stream",
     "text": [
      "📦 PyTorch versión detectada: 2.7.1+cpu\n",
      "❌ Error al registrar clase `Data`: '<' not supported between instances of 'str' and 'int'\n",
      "📊 Número de grafos cargados: 2\n"
     ]
    }
   ],
   "source": [
    "from torch_geometric.data import Data\n",
    "import torch\n",
    "import re\n",
    "\n",
    "# Verificar versión de PyTorch\n",
    "torch_version = torch.__version__\n",
    "major_minor = tuple(map(int, re.match(r\"(\\d+)\\.(\\d+)\", torch_version).groups()))\n",
    "print(f\"📦 PyTorch versión detectada: {torch_version}\")\n",
    "\n",
    "# Ruta al archivo .pt\n",
    "file_path = \"data/gnn_graphs.pt\"\n",
    "\n",
    "# Registrar el paquete si PyTorch >= 2.6\n",
    "if major_minor >= (2, 6):\n",
    "    try:\n",
    "        torch.serialization.register_package(\n",
    "            \"torch_geometric.data.data\",     # Nombre del paquete\n",
    "            {\"Data\": Data},                  # Clases seguras\n",
    "            lambda s: eval(s)                # ⚠️ Deserializador inseguro (usa solo si el archivo es confiable)\n",
    "        )\n",
    "        print(\"🔐 Registro de clase `Data` exitoso con `register_package`\")\n",
    "    except Exception as e:\n",
    "        print(f\"❌ Error al registrar clase `Data`: {e}\")\n",
    "\n",
    "# Cargar el archivo\n",
    "try:\n",
    "    graphs = torch.load(file_path, weights_only=False)\n",
    "    print(f\"📊 Número de grafos cargados: {len(graphs)}\")\n",
    "except Exception as e:\n",
    "    print(f\"❌ Error al cargar el archivo `.pt`: {e}\")\n"
   ]
  },
  {
   "cell_type": "code",
   "execution_count": 23,
   "id": "234d1595-9d1a-4d82-a6f3-8673153cc4f6",
   "metadata": {},
   "outputs": [
    {
     "name": "stdout",
     "output_type": "stream",
     "text": [
      "<class 'list'>\n",
      "Cantidad de grafos: 2\n",
      "Data(x=[2, 1], edge_index=[2, 4], y=[1])\n"
     ]
    }
   ],
   "source": [
    "# Mostrar tipo de dato y cantidad de grafos\n",
    "print(type(graphs))\n",
    "print(f\"Cantidad de grafos: {len(graphs)}\")\n",
    "\n",
    "# Ver el primer grafo\n",
    "print(graphs[0])\n"
   ]
  },
  {
   "cell_type": "code",
   "execution_count": 25,
   "id": "b3b2a243-6bef-4291-8daf-da3f200e6c63",
   "metadata": {},
   "outputs": [
    {
     "name": "stdout",
     "output_type": "stream",
     "text": [
      "Data(x=[2, 1], edge_index=[2, 4], y=[1])\n"
     ]
    }
   ],
   "source": [
    "# Ver información básica del primer grafo\n",
    "graph = graphs[0]\n",
    "print(graph)\n"
   ]
  },
  {
   "cell_type": "code",
   "execution_count": 26,
   "id": "c6b95da1-3286-49f6-a125-7ad66d16b4f8",
   "metadata": {},
   "outputs": [
    {
     "name": "stdout",
     "output_type": "stream",
     "text": [
      "['x', 'y', 'edge_index']\n",
      "Nodos: 2\n",
      "Aristas: 4\n"
     ]
    }
   ],
   "source": [
    "# Listar atributos disponibles\n",
    "print(graph.keys())\n",
    "\n",
    "# Ver el número de nodos y aristas\n",
    "print(f\"Nodos: {graph.num_nodes}\")\n",
    "print(f\"Aristas: {graph.num_edges}\")\n"
   ]
  },
  {
   "cell_type": "code",
   "execution_count": 27,
   "id": "ed6b7821-da0f-40e1-b67f-9b061edcade4",
   "metadata": {},
   "outputs": [
    {
     "data": {
      "image/png": "[encoded data removed]",
      "text/plain": [
       "<Figure size 500x500 with 1 Axes>"
      ]
     },
     "metadata": {},
     "output_type": "display_data"
    }
   ],
   "source": [
    "import networkx as nx\n",
    "from torch_geometric.utils import to_networkx\n",
    "import matplotlib.pyplot as plt\n",
    "\n",
    "# Convertir a objeto NetworkX\n",
    "nx_graph = to_networkx(graph)\n",
    "\n",
    "# Dibujar\n",
    "plt.figure(figsize=(5, 5))\n",
    "nx.draw(nx_graph, with_labels=True, node_color='lightblue', edge_color='gray')\n",
    "plt.title(\"Primer grafo cargado\")\n",
    "plt.show()\n"
   ]
  },
  {
   "cell_type": "code",
   "execution_count": 28,
   "id": "f7d5a9a0-e05d-4fed-aa3a-9a8e38d4ebec",
   "metadata": {},
   "outputs": [
    {
     "name": "stderr",
     "output_type": "stream",
     "text": [
      "C:\\Users\\ingna\\AppData\\Local\\Temp\\ipykernel_1344\\81861731.py:25: UserWarning: This figure includes Axes that are not compatible with tight_layout, so results might be incorrect.\n",
      "  plt.tight_layout()\n"
     ]
    },
    {
     "name": "stdout",
     "output_type": "stream",
     "text": [
      "✅ Imágenes guardadas en la carpeta 'images/'\n"
     ]
    }
   ],
   "source": [
    "import os\n",
    "import matplotlib.pyplot as plt\n",
    "import networkx as nx\n",
    "from torch_geometric.utils import to_networkx\n",
    "\n",
    "# Crear carpeta si no existe\n",
    "os.makedirs(\"images\", exist_ok=True)\n",
    "\n",
    "# Cuántos grafos quieres visualizar (puedes cambiarlo)\n",
    "num_to_plot = 3\n",
    "\n",
    "for i in range(min(num_to_plot, len(graphs))):\n",
    "    graph = graphs[i]\n",
    "    G = to_networkx(graph)\n",
    "\n",
    "    plt.figure(figsize=(5, 5))\n",
    "    nx.draw(G, \n",
    "            with_labels=True,\n",
    "            node_color='skyblue',\n",
    "            edge_color='gray',\n",
    "            node_size=500,\n",
    "            font_size=10)\n",
    "    \n",
    "    plt.title(f\"Grafo {i}\")\n",
    "    plt.tight_layout()\n",
    "    plt.savefig(f\"images/graph_{i}.png\")\n",
    "    plt.close()\n",
    "\n",
    "print(f\"✅ Imágenes guardadas en la carpeta 'images/'\")\n"
   ]
  },
  {
   "cell_type": "code",
   "execution_count": null,
   "id": "26b79efe-a4b0-4030-9cf2-2624bdd7da9f",
   "metadata": {},
   "outputs": [],
   "source": []
  }
 ],
 "metadata": {
  "kernelspec": {
   "display_name": "Python (GNN Safe)",
   "language": "python",
   "name": "gnn-safe"
  },
  "language_info": {
   "codemirror_mode": {
    "name": "ipython",
    "version": 3
   },
   "file_extension": ".py",
   "mimetype": "text/x-python",
   "name": "python",
   "nbconvert_exporter": "python",
   "pygments_lexer": "ipython3",
   "version": "3.10.10"
  }
 },
 "nbformat": 4,
 "nbformat_minor": 5
}
